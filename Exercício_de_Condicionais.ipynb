{
  "nbformat": 4,
  "nbformat_minor": 0,
  "metadata": {
    "colab": {
      "provenance": [],
      "authorship_tag": "ABX9TyMl+hBTfDuFmZMivYl48SyM",
      "include_colab_link": true
    },
    "kernelspec": {
      "name": "python3",
      "display_name": "Python 3"
    },
    "language_info": {
      "name": "python"
    }
  },
  "cells": [
    {
      "cell_type": "markdown",
      "metadata": {
        "id": "view-in-github",
        "colab_type": "text"
      },
      "source": [
        "<a href=\"https://colab.research.google.com/github/meuzikado/meuzikado/blob/main/Exerc%C3%ADcio_de_Condicionais.ipynb\" target=\"_parent\"><img src=\"https://colab.research.google.com/assets/colab-badge.svg\" alt=\"Open In Colab\"/></a>"
      ]
    },
    {
      "cell_type": "code",
      "execution_count": null,
      "metadata": {
        "colab": {
          "base_uri": "https://localhost:8080/"
        },
        "id": "nwcCLImXAA43",
        "outputId": "11658aa7-1079-4266-c7d0-6d2088b7a3e3"
      },
      "outputs": [
        {
          "output_type": "stream",
          "name": "stdout",
          "text": [
            "Número é maior que 5!\n"
          ]
        }
      ],
      "source": [
        "numero = 6\n",
        "\n",
        "if numero > 5:\n",
        " print('Número é maior que 5!')"
      ]
    },
    {
      "cell_type": "code",
      "source": [
        "if numero < 4:\n",
        "  print('numero menor que 4!')\n",
        "else:\n",
        "  print('numero maior que 4!')"
      ],
      "metadata": {
        "colab": {
          "base_uri": "https://localhost:8080/"
        },
        "id": "nBytIGIMYLxi",
        "outputId": "1980f3ac-0fff-4040-d183-e017b54d2896"
      },
      "execution_count": null,
      "outputs": [
        {
          "output_type": "stream",
          "name": "stdout",
          "text": [
            "numero maior que 4!\n"
          ]
        }
      ]
    },
    {
      "cell_type": "markdown",
      "source": [
        "Leia a idade do usuário e classifique-o em:\n",
        "- Criança – 0 a 12 anos\n",
        "- Adolescente – 13 a 17 anos\n",
        "- Adulto – acima de 18 anos\n",
        "-Se o usuário digitar um número negativo, mostrar a mensagem que a idade é inválida\n",
        "\n"
      ],
      "metadata": {
        "id": "aIw5pQJnZJiO"
      }
    },
    {
      "cell_type": "code",
      "source": [
        " idade = int(input('Digite sua Idade: '))\n",
        "\n",
        " if idade == 0 and idade <=12:\n",
        "  print ('Criança')\n",
        "elif idade > 12 and idade <=18:\n",
        "  print('Adolescente')\n",
        "elif idade > 18:\n",
        "  print('adulto')\n",
        "else:\n",
        "  print('Coloque uma Idade Válida')"
      ],
      "metadata": {
        "colab": {
          "base_uri": "https://localhost:8080/"
        },
        "id": "obuuLfuVZNDt",
        "outputId": "97a99823-3b70-475b-d52a-3687e3300518"
      },
      "execution_count": 8,
      "outputs": [
        {
          "output_type": "stream",
          "name": "stdout",
          "text": [
            "Digite sua Idade: 19\n",
            "adulto\n"
          ]
        }
      ]
    },
    {
      "cell_type": "code",
      "source": [
        "print('pedro é grande')"
      ],
      "metadata": {
        "colab": {
          "base_uri": "https://localhost:8080/"
        },
        "id": "km8NLo00u6me",
        "outputId": "4019a472-478f-4f46-f10f-86294a10a52e"
      },
      "execution_count": 9,
      "outputs": [
        {
          "output_type": "stream",
          "name": "stdout",
          "text": [
            "pedro é grande\n"
          ]
        }
      ]
    },
    {
      "cell_type": "code",
      "source": [
        "nome = str(input('Qual o seu nome?'))\n",
        "print('Seu nome é', nome)\n"
      ],
      "metadata": {
        "colab": {
          "base_uri": "https://localhost:8080/"
        },
        "id": "LBqRP9M8wa1q",
        "outputId": "50b9eb9a-2b5d-43fa-a8f3-2aac1b0f7cad"
      },
      "execution_count": 10,
      "outputs": [
        {
          "output_type": "stream",
          "name": "stdout",
          "text": [
            "Qual o seu nome?Pedro\n",
            "Seu nome é Pedro\n"
          ]
        }
      ]
    },
    {
      "cell_type": "code",
      "source": [
        "a = 'casaco'\n",
        "print(a)"
      ],
      "metadata": {
        "colab": {
          "base_uri": "https://localhost:8080/"
        },
        "id": "qGdQ20eCzCoT",
        "outputId": "61a548d6-d0d6-4af6-b920-4deb9e38f0b8"
      },
      "execution_count": 18,
      "outputs": [
        {
          "output_type": "stream",
          "name": "stdout",
          "text": [
            "casaco\n"
          ]
        }
      ]
    },
    {
      "cell_type": "code",
      "source": [
        "c = 'boneco'"
      ],
      "metadata": {
        "id": "oTKuKpRu0-ha"
      },
      "execution_count": 26,
      "outputs": []
    },
    {
      "cell_type": "code",
      "source": [
        "c.find('c')"
      ],
      "metadata": {
        "colab": {
          "base_uri": "https://localhost:8080/"
        },
        "id": "p0Wss2Hmz9Lr",
        "outputId": "0e121475-3ed6-4a7b-e66c-5703519bd58e"
      },
      "execution_count": 28,
      "outputs": [
        {
          "output_type": "execute_result",
          "data": {
            "text/plain": [
              "4"
            ]
          },
          "metadata": {},
          "execution_count": 28
        }
      ]
    },
    {
      "cell_type": "markdown",
      "source": [
        "\n",
        "\n",
        "```\n",
        "# Isto está formatado como código\n",
        "```\n",
        "\n",
        "# Nova seção"
      ],
      "metadata": {
        "id": "JTkw9Y7v2xrz"
      }
    },
    {
      "cell_type": "markdown",
      "source": [
        "Olá!\n",
        "\n",
        "Para revisar o conteúdo prático visto até agora, você agora pode resolver dois exercícios. Logo em seguida você pode acessar a aula em vídeo com a solução\n",
        "\n",
        "Ler dois números inteiros, executar e mostrar o resultado das seguintes operações: adição, subtração, multiplicação e divisão\n",
        "\n",
        "Efetuar o cálculo da quantidade de litros de combustível gasto em uma viagem, utilizando um automóvel que faz 12 Km por litro. Para obter o cálculo, o usuário deve fornecer o tempo gasto na viagem e a velocidade média durante ela. Desta forma, será possível obter a distância percorrida com a fórmula DISTANCIA = TEMPO * VELOCIDADE. Tendo o valor da distância, basta calcular a quantidade de litros de combustível utilizada na viagem, com a fórmula: LITROS_USADOS = DISTANCIA / 12. O programa deve apresentar os valores da velocidade média, tempo gasto na viagem, a distância percorrida e a quantidade de litros utilizada na viagem"
      ],
      "metadata": {
        "id": "kgnYO-e126lk"
      }
    },
    {
      "cell_type": "code",
      "source": [
        "n1 = int(input('Digite um número: '))\n",
        "n2 = int(input('Digite outro número: '))\n",
        "\n",
        "adiçao = n1 + n2\n",
        "print(adiçao)\n",
        "subtraçao = n1 - n2\n",
        "print(subtraçao)\n",
        "multiplicaçao = n1 * n2\n",
        "print(multiplicaçao)\n",
        "divisão = n1 / n2\n",
        "print(divisão)"
      ],
      "metadata": {
        "colab": {
          "base_uri": "https://localhost:8080/"
        },
        "id": "ir-jER2V3EyK",
        "outputId": "a02db122-86bd-49f2-db1f-abf3e6692a9e"
      },
      "execution_count": 31,
      "outputs": [
        {
          "output_type": "stream",
          "name": "stdout",
          "text": [
            "Digite um número: 5\n",
            "Digite outro número: 2\n",
            "7\n",
            "3\n",
            "10\n",
            "2.5\n"
          ]
        }
      ]
    },
    {
      "cell_type": "code",
      "source": [
        "tempo = float(input('Digite o tempo gasto na viagem em horas:'))\n",
        "velocidade_media = float(input('Digite a velocidade média durante a viagem:'))\n",
        "distancia = tempo * velocidade_media\n",
        "litros_usados = distancia/12"
      ],
      "metadata": {
        "colab": {
          "base_uri": "https://localhost:8080/"
        },
        "id": "ki-pzHBE4hoJ",
        "outputId": "4e174ac3-8456-4a43-d9c3-c49f7e6a388e"
      },
      "execution_count": 35,
      "outputs": [
        {
          "name": "stdout",
          "output_type": "stream",
          "text": [
            "Digite o tempo gasto na viagem em horas:22\n",
            "Digite a velocidade média durante a viagem:3\n"
          ]
        }
      ]
    },
    {
      "cell_type": "code",
      "source": [
        "print('O tempo gasto na viagem foi de: ', tempo)\n",
        "print('A velocidade Média foi de: ', velocidade_media)\n",
        "print('A distancia foi: ', distancia)\n",
        "print('A quantidade de combustivel por litro foi de: ', litros_usados)"
      ],
      "metadata": {
        "colab": {
          "base_uri": "https://localhost:8080/"
        },
        "id": "6_2yy5dx6aBn",
        "outputId": "db4698db-6129-4bc2-bdb8-db47f3181083"
      },
      "execution_count": 36,
      "outputs": [
        {
          "output_type": "stream",
          "name": "stdout",
          "text": [
            "O tempo gasto na viagem foi de:  22.0\n",
            "A velocidade Média foi de:  3.0\n",
            "A distancia foi:  66.0\n",
            "A quantidade de combustivel por litro foi de:  5.5\n"
          ]
        }
      ]
    },
    {
      "cell_type": "code",
      "source": [
        "5 > 3"
      ],
      "metadata": {
        "colab": {
          "base_uri": "https://localhost:8080/"
        },
        "id": "hUTHlfMT7-kN",
        "outputId": "da0678e7-227e-4745-edbf-bb4686183650"
      },
      "execution_count": 37,
      "outputs": [
        {
          "output_type": "execute_result",
          "data": {
            "text/plain": [
              "True"
            ]
          },
          "metadata": {},
          "execution_count": 37
        }
      ]
    },
    {
      "cell_type": "code",
      "source": [
        "5 < 3"
      ],
      "metadata": {
        "colab": {
          "base_uri": "https://localhost:8080/"
        },
        "id": "7Nquzp7h8BuG",
        "outputId": "7f8a70a5-a8e8-40b9-9497-1f82a677349b"
      },
      "execution_count": 38,
      "outputs": [
        {
          "output_type": "execute_result",
          "data": {
            "text/plain": [
              "False"
            ]
          },
          "metadata": {},
          "execution_count": 38
        }
      ]
    },
    {
      "cell_type": "code",
      "source": [
        "5>= 3"
      ],
      "metadata": {
        "colab": {
          "base_uri": "https://localhost:8080/"
        },
        "id": "0RaFyhMJ8G9u",
        "outputId": "ff0c5b33-ebd0-45de-9827-cea72e63cfb2"
      },
      "execution_count": 39,
      "outputs": [
        {
          "output_type": "execute_result",
          "data": {
            "text/plain": [
              "True"
            ]
          },
          "metadata": {},
          "execution_count": 39
        }
      ]
    },
    {
      "cell_type": "code",
      "source": [
        "3 >= 3"
      ],
      "metadata": {
        "colab": {
          "base_uri": "https://localhost:8080/"
        },
        "id": "j06vxWvD8JoC",
        "outputId": "bd0d86a9-3ba3-4cc0-95e7-894c2b87171a"
      },
      "execution_count": 40,
      "outputs": [
        {
          "output_type": "execute_result",
          "data": {
            "text/plain": [
              "True"
            ]
          },
          "metadata": {},
          "execution_count": 40
        }
      ]
    },
    {
      "cell_type": "markdown",
      "source": [
        "Olá!\n",
        "\n",
        "Para revisar o conteúdo prático visto até agora, você agora pode resolver dois exercícios. Logo em seguida você pode acessar a aula em vídeo com a solução\n",
        "\n",
        "Leia a idade do usuário e classifique-o em:\n",
        "- Criança – 0 a 12 anos\n",
        "- Adolescente – 13 a 17 anos\n",
        "- Adulto – acima de 18 anos\n",
        "-Se o usuário digitar um número negativo, mostrar a mensagem que a idade é inválida"
      ],
      "metadata": {
        "id": "Igv4sFKX-lUX"
      }
    },
    {
      "cell_type": "code",
      "source": [
        "idade = int(input('Digite Sua Idade: '))\n",
        "\n",
        "if idade > 0 and idade <= 12:\n",
        "  print('Você é uma Criança!')\n",
        "elif idade > 12 and idade <= 18:\n",
        "  print('Você é um Adolescente!')\n",
        "elif idade > 18:\n",
        "  print('Você é um Adulto!')\n",
        "else:\n",
        "  print('Digite uma Idade Válida.')"
      ],
      "metadata": {
        "colab": {
          "base_uri": "https://localhost:8080/"
        },
        "id": "6fDTXzUW-qJ3",
        "outputId": "589bf3ef-66d7-4c1f-aefd-96db15fd1980"
      },
      "execution_count": 51,
      "outputs": [
        {
          "output_type": "stream",
          "name": "stdout",
          "text": [
            "Digite Sua Idade: 19\n",
            "Você é um Adulto!\n"
          ]
        }
      ]
    },
    {
      "cell_type": "markdown",
      "source": [
        "Calcular a média de um aluno que cursou a disciplina de Programação I, a partir da leitura das notas M1, M2 e M3; passando por um cálculo da média aritmética. Após a média calculada, devemos anunciar se o aluno foi aprovado, reprovado ou pegou exame\n",
        "- Se a média estiver entre 0.0 e 4.0, o aluno está reprovado\n",
        "- Se a média estiver entre 4.1 e 6.0, o aluno pegou exame\n",
        "- Se a média for maior do que 6.0, o aluno está aprovado\n",
        "- Se o aluno pegou exame, deve ser lida a nota do exame. Se a nota do exame for maior do que 6.0, está aprovado, senão; está reprovado"
      ],
      "metadata": {
        "id": "pZupPosmAvj0"
      }
    },
    {
      "cell_type": "code",
      "source": [
        "m1 = float(input('Digite sua Primeira Nota: '))\n",
        "m2 = float(input('Digite sua Segunda Nota: '))\n",
        "m3 = float(input('Digite sua Terceira Nota: '))\n",
        "\n",
        "Media = (m1+ m2 + m3) / 3\n",
        "print('Sua Média foi de: ', round(Media, 2))\n",
        "\n",
        "if Media >= 0.0 and Media <= 4.0:\n",
        "  print('Você está Reprovado!')\n",
        "elif Media > 4.1 and Media <= 6.0:\n",
        "  print('Você Pegou o exame!')\n",
        "elif Media > 6.0:\n",
        "  print('Você está Aprovado!')\n",
        "else:\n",
        "  print('Digite uma Nota Válida!')\n",
        "\n",
        "\n"
      ],
      "metadata": {
        "colab": {
          "base_uri": "https://localhost:8080/"
        },
        "id": "BoOdstaPAyPb",
        "outputId": "d4c15723-e2e2-4c56-ac91-55fb2fa3b87f"
      },
      "execution_count": 63,
      "outputs": [
        {
          "output_type": "stream",
          "name": "stdout",
          "text": [
            "Digite sua Primeira Nota: 8.3\n",
            "Digite sua Segunda Nota: 3.9\n",
            "Digite sua Terceira Nota: 6.4\n",
            "Sua Média foi de:  6.2\n",
            "Você está Aprovado!\n"
          ]
        }
      ]
    }
  ]
}
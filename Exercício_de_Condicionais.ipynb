{
  "nbformat": 4,
  "nbformat_minor": 0,
  "metadata": {
    "colab": {
      "provenance": [],
      "authorship_tag": "ABX9TyMmzX9MMvh3u6xSfEiJWI3b",
      "include_colab_link": true
    },
    "kernelspec": {
      "name": "python3",
      "display_name": "Python 3"
    },
    "language_info": {
      "name": "python"
    }
  },
  "cells": [
    {
      "cell_type": "markdown",
      "metadata": {
        "id": "view-in-github",
        "colab_type": "text"
      },
      "source": [
        "<a href=\"https://colab.research.google.com/github/meuzikado/meuzikado/blob/main/Exerc%C3%ADcio_de_Condicionais.ipynb\" target=\"_parent\"><img src=\"https://colab.research.google.com/assets/colab-badge.svg\" alt=\"Open In Colab\"/></a>"
      ]
    },
    {
      "cell_type": "code",
      "execution_count": null,
      "metadata": {
        "colab": {
          "base_uri": "https://localhost:8080/"
        },
        "id": "nwcCLImXAA43",
        "outputId": "11658aa7-1079-4266-c7d0-6d2088b7a3e3"
      },
      "outputs": [
        {
          "output_type": "stream",
          "name": "stdout",
          "text": [
            "Número é maior que 5!\n"
          ]
        }
      ],
      "source": [
        "numero = 6\n",
        "\n",
        "if numero > 5:\n",
        " print('Número é maior que 5!')"
      ]
    },
    {
      "cell_type": "code",
      "source": [
        "if numero < 4:\n",
        "  print('numero menor que 4!')\n",
        "else:\n",
        "  print('numero maior que 4!')"
      ],
      "metadata": {
        "colab": {
          "base_uri": "https://localhost:8080/"
        },
        "id": "nBytIGIMYLxi",
        "outputId": "1980f3ac-0fff-4040-d183-e017b54d2896"
      },
      "execution_count": null,
      "outputs": [
        {
          "output_type": "stream",
          "name": "stdout",
          "text": [
            "numero maior que 4!\n"
          ]
        }
      ]
    },
    {
      "cell_type": "markdown",
      "source": [
        "Leia a idade do usuário e classifique-o em:\n",
        "- Criança – 0 a 12 anos\n",
        "- Adolescente – 13 a 17 anos\n",
        "- Adulto – acima de 18 anos\n",
        "-Se o usuário digitar um número negativo, mostrar a mensagem que a idade é inválida\n",
        "\n"
      ],
      "metadata": {
        "id": "aIw5pQJnZJiO"
      }
    },
    {
      "cell_type": "code",
      "source": [
        " idade = int(input('Digite sua Idade: '))"
      ],
      "metadata": {
        "colab": {
          "base_uri": "https://localhost:8080/"
        },
        "id": "obuuLfuVZNDt",
        "outputId": "a1c87547-5d8f-4517-9f1c-5f03491e1213"
      },
      "execution_count": null,
      "outputs": [
        {
          "name": "stdout",
          "output_type": "stream",
          "text": [
            "Digite sua Idade: -6\n"
          ]
        }
      ]
    },
    {
      "cell_type": "code",
      "source": [
        "if idade == 0 and idade <=12:\n",
        "  print ('Criança')\n",
        "elif idade > 12 and idade <=18:\n",
        " print('Adolescente')\n",
        "elif idade > 18:\n",
        "  print('adulto')\n",
        "else:\n",
        "  print('Coloque uma Idade Válida')"
      ],
      "metadata": {
        "id": "CSKt4iUiamW9",
        "colab": {
          "base_uri": "https://localhost:8080/"
        },
        "outputId": "4884d06d-0a59-4c14-bab6-5370ba0eaad9"
      },
      "execution_count": null,
      "outputs": [
        {
          "output_type": "stream",
          "name": "stdout",
          "text": [
            "Coloque uma Idade Válida\n"
          ]
        }
      ]
    }
  ]
}